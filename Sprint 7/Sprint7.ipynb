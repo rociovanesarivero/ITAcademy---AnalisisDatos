{
 "cells": [
  {
   "cell_type": "markdown",
   "id": "bbcc2b06",
   "metadata": {},
   "source": [
    "- Exercici 1\n",
    "Calculadora de l'índex de massa corporal\n",
    "\n",
    "Escriu una funció que calculi l'IMC ingressat per l'usuari/ària, és a dir, qui ho executi haurà d'ingressar aquestes dades. Pots obtenir més informació del seu càlcul en:\n",
    "\n",
    "-> Índice de masa corporal IMC que es y como se calcula.\n",
    "\n",
    "La funció ha de classificar el resultat en les seves respectives categories"
   ]
  },
  {
   "cell_type": "code",
   "execution_count": 2,
   "id": "d748c7be",
   "metadata": {},
   "outputs": [
    {
     "name": "stdout",
     "output_type": "stream",
     "text": [
      "Tu IMC es 31.25 y tu categoría es: Obesidad\n"
     ]
    }
   ],
   "source": [
    "def calcular_imc():\n",
    "    # Introducir datos\n",
    "    peso = float(input(\"Introduce tu peso en kilogramos: \"))\n",
    "    altura = float(input(\"Introduce tu altura en metros: \"))\n",
    "    \n",
    "    # Calcular el IMC\n",
    "    imc = peso / (altura ** 2)\n",
    "    \n",
    "    # Clasificación\n",
    "    if imc < 18.5:\n",
    "        categoria = \"Bajo peso\"\n",
    "    elif imc < 25:\n",
    "        categoria = \"Peso normal\"\n",
    "    elif imc < 30:\n",
    "        categoria = \"Sobrepeso\"\n",
    "    else:\n",
    "        categoria = \"Obesidad\"\n",
    "    \n",
    "    # Mostrar el resultado\n",
    "    print(f\"Tu IMC es {imc:.2f} y tu categoría es: {categoria}\")\n",
    "\n",
    "# Llamar a la función\n",
    "calcular_imc()\n"
   ]
  },
  {
   "cell_type": "markdown",
   "id": "a6ced766",
   "metadata": {},
   "source": [
    "\n",
    "- Exercici 2\n",
    "Convertidor de temperatures.\n",
    "\n",
    "Existeixen diverses unitats de temperatura utilitzades en diferents contextos i regions. Les més comunes són Celsius (°C), Fahrenheit (°F) i Kelvin (K). També existeixen altres unitats com Rankine (°Ra) i Réaumur (°Re). Selecciona almenys 2 conversors, de tal manera que en introduir una temperatura retorni, com a mínim, dues conversions."
   ]
  },
  {
   "cell_type": "code",
   "execution_count": 1,
   "id": "e0ebc16c",
   "metadata": {},
   "outputs": [
    {
     "name": "stdout",
     "output_type": "stream",
     "text": [
      "La temperatura en Kelvin es: 303.15ºK\n",
      "La temperatura en Fahrenheit es: 86.00ºF\n"
     ]
    }
   ],
   "source": [
    "# Definimos las funciones\n",
    "#(0 °C × 9 / 5) + 32 = 32 \n",
    "def conv_fahrenheit(celsius):\n",
    "    return (celsius * 9 / 5) + 32\n",
    "\n",
    "def conv_kelvin(celsius):\n",
    "    #Funcion para convertir \n",
    "    #0 °C + 273,15 = 273,15 K\n",
    "    return celsius + 273.15\n",
    "\n",
    "def conv_temp(celsius):\n",
    "    temp_kelvin = conv_kelvin(celsius)\n",
    "    temp_fahrenheit = conv_fahrenheit(celsius)\n",
    "\n",
    "    print(f\"La temperatura en Kelvin es: {temp_kelvin:.2f}ºK\")\n",
    "    print(f\"La temperatura en Fahrenheit es: {temp_fahrenheit:.2f}ºF\")\n",
    "\n",
    "# Llamamos a las funciones \n",
    "celsius = float(input(\"Introduce la temperatura en grados Celsius: \"))\n",
    "conv_temp(celsius)\n"
   ]
  },
  {
   "cell_type": "markdown",
   "id": "40dd1df1",
   "metadata": {},
   "source": [
    "- Exercici 3\n",
    "Comptador de paraules d'un text.\n",
    "\n",
    "Escriu una funció que donat un text, mostri les vegades que apareix cada paraula."
   ]
  },
  {
   "cell_type": "code",
   "execution_count": null,
   "id": "fbb5eaa9",
   "metadata": {},
   "outputs": [
    {
     "name": "stdout",
     "output_type": "stream",
     "text": [
      " Esta es la cantidad de palabras: {'mi': 2, 'mama': 2, 'me': 2, 'mima': 1, 'ama': 1}\n"
     ]
    }
   ],
   "source": [
    "def contar(listaPalabras):\n",
    "    palabras_contadas = {} #creamos un diccionario vacio para almacenar las palabras que contamos\n",
    "\n",
    "    for palabra in listaPalabras: #\n",
    "        if palabra in palabras_contadas:\n",
    "            palabras_contadas[palabra] += 1\n",
    "        else:\n",
    "            palabras_contadas[palabra] = 1\n",
    "    return palabras_contadas\n",
    "\n",
    "\n",
    "def cont_palabras():\n",
    "    texto=input(\"Introduce el texto:\")\n",
    "\n",
    "    palabras=texto.split(\" \")\n",
    "    cant_palabras=contar(palabras)\n",
    "    print(f\" Esta es la cantidad de palabras: {cant_palabras}\")\n",
    "\n",
    "cont_palabras()"
   ]
  },
  {
   "cell_type": "code",
   "execution_count": null,
   "id": "08e13ebf",
   "metadata": {},
   "outputs": [
    {
     "name": "stdout",
     "output_type": "stream",
     "text": [
      "Esta es la cantidad de palabras: {'mi': 1, 'mama': 1, 'me': 1, 'mima': 1}\n"
     ]
    }
   ],
   "source": [
    "# Función que cuenta las palabras en una lista\n",
    "def contar(lista_palabras):\n",
    "    palabras_contadas = {}  # Diccionario para almacenar palabras que contamos\n",
    "    # Iteramos sobre cada palabra en la lista\n",
    "    # y contamos cuántas veces aparece\n",
    "\n",
    "    for palabra in lista_palabras:\n",
    "        if palabra in palabras_contadas:\n",
    "            palabras_contadas[palabra] += 1\n",
    "        else:\n",
    "            palabras_contadas[palabra] = 1\n",
    "\n",
    "    return palabras_contadas\n",
    "\n",
    "# Función que recibe un texto, lo divide en palabras y las cuenta\n",
    "def cont_palabras(texto):\n",
    "    palabras = texto.split()\n",
    "    return contar(palabras)\n",
    "\n",
    "# pedimos el texto al usuario y llamamos a la funcion\n",
    "texto_usuario = input(\"Introduce el texto: \")\n",
    "resultado = cont_palabras(texto_usuario)\n",
    "print(\"Esta es la cantidad de palabras:\", resultado)\n"
   ]
  },
  {
   "cell_type": "markdown",
   "id": "350d9139",
   "metadata": {},
   "source": [
    "- Exercici 4\n",
    "Diccionari invers.\n",
    "\n",
    "Resulta que el client té una enquesta molt antiga que s'emmagatzema en un diccionari i els resultats els necessita al revés, és a dir, intercanviats les claus i els valors. Els valors i claus en el diccionari original són únics; si aquest no és el cas, la funció hauria d'imprimir un missatge d'advertiment."
   ]
  },
  {
   "cell_type": "code",
   "execution_count": null,
   "id": "0750d220",
   "metadata": {},
   "outputs": [
    {
     "name": "stdout",
     "output_type": "stream",
     "text": [
      "{1: 'a', 2: 'b', 3: 'c'}\n",
      "Error: multiple keys for one value\n"
     ]
    }
   ],
   "source": [
    "def reverse_dictionary(diccionario):\n",
    "    diccionario_invertido = {} # Diccionario para almacenar los valores únicos\n",
    "    # Iteramos sobre el diccionario original\n",
    "    # y llenamos el diccionario invertido\n",
    "        \n",
    "\n",
    "    for clave, valor in diccionario.items():\n",
    "        if valor in diccionario_invertido:\n",
    "            print(\"Error: multiple keys for one value\")\n",
    "            return\n",
    "        diccionario_invertido[valor] = clave\n",
    "\n",
    "    print(diccionario_invertido)\n",
    "\n",
    "# salida valores únicos\n",
    "reverse_dictionary({'a': 1, 'b': 2, 'c': 3})\n",
    "\n",
    "# salida valores repetidos\n",
    "reverse_dictionary({'x': 'apple', 'y': 'banana', 'z': 'banana'})\n"
   ]
  },
  {
   "cell_type": "markdown",
   "id": "ec8245ee",
   "metadata": {},
   "source": [
    "Diccionari invers amb duplicats\n",
    "\n",
    "Continuant amb l'exercici 4 del nivell 1: al client es va oblidar de comentar un detall i resulta que els valors en el diccionari original poden duplicar-se i més, per la qual cosa les claus intercanviades poden tenir duplicats. En aquest cas, en l'exercici anterior imprimies un missatge d'advertiment, ara, els valors del diccionari resultant hauran d'emmagatzemar-se com una llista. Tingues en compte que si és un valor únic no ha de ser una llista."
   ]
  },
  {
   "cell_type": "code",
   "execution_count": null,
   "id": "c472f29c",
   "metadata": {},
   "outputs": [
    {
     "name": "stdout",
     "output_type": "stream",
     "text": [
      "{1: 'a', 2: 'b', 3: 'c'}\n",
      "{'apple': 'x', 'banana': ['y', 'z']}\n"
     ]
    }
   ],
   "source": [
    "def reverse_dictionary_plus(diccionario): # Función para invertir un diccionario\n",
    "    # y manejar valores repetidos\n",
    "    diccionario_invertido = {}\n",
    "# Iteramos sobre el diccionario original\n",
    "    # y llenamos el diccionario invertido\n",
    "    # Si el valor ya existe en el diccionario invertido, lo convertimos en una lista\n",
    "    # y añadimos la nueva clave a la lista \n",
    "    for clave, valor in diccionario.items():\n",
    "        if valor in diccionario_invertido:\n",
    "            actual = diccionario_invertido[valor]\n",
    "            if isinstance(actual, list):\n",
    "                actual.append(clave)\n",
    "            else:\n",
    "                diccionario_invertido[valor] = [actual, clave]\n",
    "        else:\n",
    "            diccionario_invertido[valor] = clave\n",
    "\n",
    "    print(diccionario_invertido)\n",
    "\n",
    "# ejemplo\n",
    "reverse_dictionary_plus({'a': 1, 'b': 2, 'c': 3})\n",
    "reverse_dictionary_plus({'x': 'apple', 'y': 'banana', 'z': 'banana'})\n"
   ]
  },
  {
   "cell_type": "markdown",
   "id": "7ddfbf2a",
   "metadata": {},
   "source": [
    "Exercici 2\n",
    "Conversió de tipus de dades\n",
    "\n",
    "El client rep una llista de dades i necessita generar dues llistes, la primera on estaran tots els elements que es van poder convertir en flotants i l'altra on estan els elements que no es van poder convertir. Exemple de la llista que rep el client: [ '1.3', 'one' , '1e10' , 'seven', '3-1/2', ('2',1,1.4,'not-a-number'), [1,2,'3','3.4']]"
   ]
  },
  {
   "cell_type": "code",
   "execution_count": null,
   "id": "09fdcce2",
   "metadata": {},
   "outputs": [
    {
     "name": "stdout",
     "output_type": "stream",
     "text": [
      "Lista de flotantes: [1.3, 10000000000.0, 2.0, 1.0, 1.4, 1.0, 2.0, 3.0, 3.4]\n",
      "Lista de no flotantes: ['one', 'seven', '3-1/2', 'not-a-number']\n"
     ]
    }
   ],
   "source": [
    "def separar_listas(lista):\n",
    "    # Crear dos listas: una para flotantes y otra para no flotantes \n",
    "    # Inicializamos las listas vacías\n",
    "    # para almacenar los elementos convertidos y no convertidos\n",
    "    lista_flotantes = []\n",
    "    lista_no_flotantes = []\n",
    "\n",
    "    # Función auxiliar para intentar convertir a float  \n",
    "    # y manejar excepciones\n",
    "    # Definimos una función auxiliar para intentar convertir los elementos\n",
    "    def intentar_convertir(elemento):\n",
    "        try:\n",
    "            convertido = float(elemento)\n",
    "            lista_flotantes.append(convertido)\n",
    "        except (ValueError, TypeError):\n",
    "            lista_no_flotantes.append(elemento)\n",
    "\n",
    "    # Recorrer la lista principal   \n",
    "    # y aplicar la función de conversión a cada elemento\n",
    "    # Iteramos sobre cada elemento de la lista\n",
    "    # y verificamos si es una lista o una tupla\n",
    "    # Si es así, llamamos a la función de conversión recursivamente para los subelementos sino se intenta convertir directamente \n",
    "    # el elemento a float\n",
    "    # y lo añadimos a la lista correspondiente\n",
    "    for elemento in lista:\n",
    "        if isinstance(elemento, (list, tuple)):\n",
    "            for subelemento in elemento:\n",
    "                intentar_convertir(subelemento)\n",
    "        else:\n",
    "            intentar_convertir(elemento)\n",
    "\n",
    "    print(\"Lista de flotantes:\", lista_flotantes)\n",
    "    print(\"Lista de no flotantes:\", lista_no_flotantes)\n",
    "\n",
    "# Probar la función\n",
    "separar_listas([ '1.3', 'one' , '1e10' , 'seven', '3-1/2', ('2',1,1.4,'not-a-number'), [1,2,'3','3.4']])\n"
   ]
  },
  {
   "cell_type": "markdown",
   "id": "c61577a2",
   "metadata": {},
   "source": [
    "Nivell 3\n",
    "Exercici 1\n",
    "Comptador i endreçador de paraules d'un text.\n",
    "\n",
    "El client va quedar content amb el comptador de paraules, però ara vol llegir arxius TXT i que calculi la freqüència de cada paraula ordenades dins de les entrades habituals del diccionari segons la lletra amb la qual comencen, és a dir, les claus han d'anar de la A a la Z i dins de la A hem d'anar de la A la Z. Per exemple, per a l'arxiu \"tu_me_quieres_blanca.txt\" la sortida esperada seria:ç"
   ]
  },
  {
   "cell_type": "code",
   "execution_count": 1,
   "id": "7358eccb",
   "metadata": {},
   "outputs": [
    {
     "name": "stdout",
     "output_type": "stream",
     "text": [
      "A:\n",
      "  a: 3\n",
      "  agua: 1\n",
      "  al: 2\n",
      "  alba: 4\n",
      "  alcobas: 1\n",
      "  alimenta: 1\n",
      "  alma: 1\n",
      "  amarga: 1\n",
      "  azucena: 1\n",
      "B:\n",
      "  baco: 1\n",
      "  banquete: 1\n",
      "  bebe: 1\n",
      "  blanca: 3\n",
      "  boca: 1\n",
      "  bosques: 1\n",
      "  buen: 1\n",
      "C:\n",
      "  cabañas: 1\n",
      "  carnes: 2\n",
      "  casta: 3\n",
      "  cerrada: 1\n",
      "  con: 4\n",
      "  conservas: 1\n",
      "  copas: 1\n",
      "  corola: 1\n",
      "  corriste: 1\n",
      "  cuando: 2\n",
      "  cubierto: 1\n",
      "  cuerpo: 1\n",
      "  cuáles: 1\n",
      "D:\n",
      "  de: 8\n",
      "  dejaste: 1\n",
      "  del: 1\n",
      "  diga: 1\n",
      "  dios: 2\n",
      "  duerme: 1\n",
      "E:\n",
      "  el: 4\n",
      "  ellas: 1\n",
      "  en: 4\n",
      "  engaño: 1\n",
      "  enredada: 1\n",
      "  entonces: 1\n",
      "  escarcha: 1\n",
      "  espumas: 1\n",
      "  esqueleto: 1\n",
      "  estrago: 1\n",
      "F:\n",
      "  festejando: 1\n",
      "  filtrado: 1\n",
      "  frutos: 1\n",
      "H:\n",
      "  habla: 1\n",
      "  hacia: 1\n",
      "  haya: 1\n",
      "  hayas: 1\n",
      "  hermana: 1\n",
      "  hombre: 1\n",
      "  hubiste: 1\n",
      "  huye: 1\n",
      "I:\n",
      "  intacto: 1\n",
      "J:\n",
      "  jardines: 1\n",
      "L:\n",
      "  la: 3\n",
      "  labios: 1\n",
      "  las: 7\n",
      "  lo: 2\n",
      "  los: 4\n",
      "  luna: 1\n",
      "  lévate: 1\n",
      "  límpiate: 1\n",
      "M:\n",
      "  mano: 1\n",
      "  manos: 1\n",
      "  margarita: 1\n",
      "  me: 10\n",
      "  mi: 1\n",
      "  mieles: 1\n",
      "  milagros: 1\n",
      "  mojada: 1\n",
      "  montaña: 1\n",
      "  morados: 1\n",
      "N:\n",
      "  negros: 1\n",
      "  ni: 2\n",
      "  no: 1\n",
      "  nácar: 1\n",
      "  nívea: 2\n",
      "P:\n",
      "  perdone: 2\n",
      "  perfume: 1\n",
      "  por: 2\n",
      "  pretendes: 3\n",
      "  preténdeme: 3\n",
      "  puesto: 1\n",
      "  pájaros: 1\n",
      "  pámpanos: 1\n",
      "Q:\n",
      "  que: 6\n",
      "  quedó: 1\n",
      "  quieres: 6\n",
      "R:\n",
      "  rayo: 1\n",
      "  raíz: 1\n",
      "  renueva: 1\n",
      "  rocas: 1\n",
      "  rojo: 1\n",
      "S:\n",
      "  salitre: 1\n",
      "  se: 2\n",
      "  sea: 1\n",
      "  sean: 1\n",
      "  sobre: 2\n",
      "  sé: 1\n",
      "T:\n",
      "  te: 3\n",
      "  tejidos: 1\n",
      "  tenue: 1\n",
      "  tierra: 1\n",
      "  toca: 1\n",
      "  todas: 2\n",
      "  todavía: 1\n",
      "  tornadas: 1\n",
      "  tú: 8\n",
      "U:\n",
      "  un: 1\n",
      "  una: 1\n",
      "V:\n",
      "  vestido: 1\n",
      "  vete: 1\n",
      "  vive: 1\n",
      "Y:\n",
      "  y: 5\n"
     ]
    }
   ],
   "source": [
    "#cargar archivo txt y leer\n",
    "#recorrer el texto y separar por palabras\n",
    "#recorrer la lista de palabras\n",
    "#ver con que letra empiezan\n",
    "#agregarla en el dict\n",
    "#ordenar el diccionario\n",
    "import string  # Importamos el módulo 'string' que contiene signos de puntuación predefinidos\n",
    "\n",
    "def contar_y_ordenar_palabras(nombre_archivo):\n",
    "    # Diccionario donde almacenaremos las palabras ordenadas por letras iniciales\n",
    "    resultado = {}\n",
    "\n",
    "    # Abrimos el archivo en modo lectura \n",
    "    with open(nombre_archivo, 'r', encoding='utf-8') as archivo:\n",
    "        texto = archivo.read().lower()  # Leemos todo el texto y lo pasamos a minúsculas\n",
    "    # Creamos una tabla de traducción que elimina todos los signos de puntuación\n",
    "    # string.punctuation incluye signos de puntación y Añadimos '¡¿' manualmente porque no están en string.punctuation\n",
    "    \n",
    "    tabla_traduccion = str.maketrans('', '', string.punctuation + '¡¿')\n",
    "\n",
    "    # Aplicamos la tabla de traducción al texto, eliminando todos los signos de puntuación\n",
    "    texto = texto.translate(tabla_traduccion)\n",
    "    # --------------------------------------------------------------\n",
    "\n",
    "    # Separamos el texto en palabras individuales usando espacios\n",
    "    palabras = texto.split()\n",
    "\n",
    "    # Recorremos cada palabra para contarla y ordenarla por su letra inicial\n",
    "    for palabra in palabras:\n",
    "        if palabra == \"\":\n",
    "            continue  # Saltamos si es una cadena vacía\n",
    "\n",
    "        letra_inicial = palabra[0].upper() # Tomamos la primera letra\n",
    "\n",
    "        if letra_inicial not in string.ascii_uppercase:\n",
    "            continue  # Si no empieza con una letra (por ejemplo, números), la ignoramos\n",
    "\n",
    "        # Si la letra inicial no está en el diccionario, la creamos\n",
    "        if letra_inicial not in resultado:\n",
    "            resultado[letra_inicial] = {}\n",
    "\n",
    "        # Sumamos 1 a la frecuencia de la palabra, o la iniciamos si no estaba\n",
    "        if palabra not in resultado[letra_inicial]:\n",
    "            resultado[letra_inicial][palabra] = 1\n",
    "        else:\n",
    "            resultado[letra_inicial][palabra] += 1\n",
    "\n",
    "    # Ordenamos las palabras alfabéticamente dentro de cada letra\n",
    "    for letra in resultado:\n",
    "        resultado[letra] = dict(sorted(resultado[letra].items()))\n",
    "\n",
    "    # Ordenamos el diccionario principal por letras de la A a la Z\n",
    "    resultado_ordenado = dict(sorted(resultado.items()))\n",
    "\n",
    "    return resultado_ordenado\n",
    "\n",
    "# Llamamos a la función con el archivo y mostramos el resultado de forma organizada\n",
    "resultado = contar_y_ordenar_palabras(\"tu_me_quieres_blanca.txt\")\n",
    "#print(f\"{resultado}\")\n",
    "for letra, palabras in resultado.items():\n",
    "   print(f\"{letra}:\")\n",
    "   for palabra, frecuencia in palabras.items():\n",
    "      print(f\"  {palabra}: {frecuencia}\")\n"
   ]
  }
 ],
 "metadata": {
  "kernelspec": {
   "display_name": "Python 3",
   "language": "python",
   "name": "python3"
  },
  "language_info": {
   "codemirror_mode": {
    "name": "ipython",
    "version": 3
   },
   "file_extension": ".py",
   "mimetype": "text/x-python",
   "name": "python",
   "nbconvert_exporter": "python",
   "pygments_lexer": "ipython3",
   "version": "3.11.9"
  }
 },
 "nbformat": 4,
 "nbformat_minor": 5
}
